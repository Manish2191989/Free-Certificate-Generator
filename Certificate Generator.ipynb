{
 "cells": [
  {
   "cell_type": "markdown",
   "metadata": {},
   "source": [
    "# Script to Generate Certificates for Pariticipants in bulk"
   ]
  },
  {
   "cell_type": "code",
   "execution_count": 21,
   "metadata": {},
   "outputs": [],
   "source": [
    "from PIL import Image, ImageDraw, ImageFont\n",
    "import pandas as pd\n",
    "\n",
    "form = pd.read_excel(\"participant_list.xlsx\")\n",
    "\n",
    "salutation_list = form['Salutation'].to_list()\n",
    "name_list = form['Name'].to_list()\n",
    "institution_list = form['Institution'].to_list()\n",
    "\n",
    "\n",
    "for i,j,k in zip(salutation_list,name_list,institution_list):\n",
    "    im = Image.open(\"Participation_Certificate.jpg\")\n",
    "    d = ImageDraw.Draw(im)\n",
    "    location1 = (871, 620)\n",
    "    location2 = (1114, 615)\n",
    "    location3 = (240, 684)\n",
    "    \n",
    "    text_color = (155,48,255)\n",
    "    font1 = ImageFont.truetype(\"times-new-roman.ttf\", 45, encoding=\"unic\")\n",
    "    font2 = ImageFont.truetype(\"times-new-roman.ttf\", 40, encoding=\"unic\")\n",
    "    \n",
    "    d.text(location1, i, fill=text_color,font=font1)\n",
    "    d.text(location2, j, fill=text_color,font=font1)\n",
    "    d.text(location3, k, fill=text_color,font=font2)\n",
    "    im.save(\"C:/Users/ACER INDIA/Desktop/Certificate Generator/participants/\"+j+\".pdf\")"
   ]
  },
  {
   "cell_type": "code",
   "execution_count": 28,
   "metadata": {},
   "outputs": [],
   "source": [
    "from PIL import Image, ImageDraw, ImageFont\n",
    "import pandas as pd\n",
    "\n",
    "form1 = pd.read_excel(\"organising_team_members.xlsx\")\n",
    "\n",
    "salutation_list1 = form1['Salutation'].to_list()\n",
    "name_list1 = form1['Name'].to_list()\n",
    "department_list = form1['Department'].to_list()\n",
    "role_list = form1['Role'].to_list()\n",
    "\n",
    "for i,j,k,l in zip(salutation_list1,name_list1,department_list,role_list):\n",
    "    im = Image.open(\"Recognition_Certificate.jpg\")\n",
    "    d = ImageDraw.Draw(im)\n",
    "    location1 = (832, 580)\n",
    "    location2 = (1128, 580)\n",
    "    location3 = (257, 650)\n",
    "    location4 = (508, 712)\n",
    "    \n",
    "    text_color = (104,34,139)\n",
    "    font1 = ImageFont.truetype(\"times-new-roman.ttf\", 45, encoding=\"unic\")\n",
    "    font2 = ImageFont.truetype(\"times-new-roman.ttf\", 35, encoding=\"unic\")\n",
    "    font3 = ImageFont.truetype(\"times-new-roman.ttf\", 40, encoding=\"unic\")\n",
    "    \n",
    "    d.text(location1, i, fill=text_color,font=font1)\n",
    "    d.text(location2, j, fill=text_color,font=font1)\n",
    "    d.text(location3, k, fill=text_color,font=font2)\n",
    "    d.text(location4, l, fill=text_color,font=font3)\n",
    "    im.save(\"C:/Users/ACER INDIA/Desktop/Certificate Generator/organising_team/\"+j+\".pdf\")"
   ]
  }
 ],
 "metadata": {
  "kernelspec": {
   "display_name": "Python 3",
   "language": "python",
   "name": "python3"
  },
  "language_info": {
   "codemirror_mode": {
    "name": "ipython",
    "version": 3
   },
   "file_extension": ".py",
   "mimetype": "text/x-python",
   "name": "python",
   "nbconvert_exporter": "python",
   "pygments_lexer": "ipython3",
   "version": "3.8.5"
  }
 },
 "nbformat": 4,
 "nbformat_minor": 2
}
